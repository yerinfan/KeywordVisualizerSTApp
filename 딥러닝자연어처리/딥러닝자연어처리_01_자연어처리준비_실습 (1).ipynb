{
 "cells": [
  {
   "cell_type": "markdown",
   "id": "3a565f31",
   "metadata": {},
   "source": [
    "# [1] 넘파이 (NumPy : Numerical Python)\n",
    "#### 넘파이 배열 ndarray 생성, 변환, 값추출, 행렬 연산 연습"
   ]
  },
  {
   "cell_type": "code",
   "execution_count": 1,
   "id": "5b2fb126",
   "metadata": {},
   "outputs": [],
   "source": [
    "import numpy as np"
   ]
  },
  {
   "cell_type": "markdown",
   "id": "514e021b",
   "metadata": {},
   "source": [
    "## 1-1. ndarray 생성\n",
    "\n",
    "- np.array(*array_like_data*, dtype=*'data_type'*) [ref](https://numpy.org/doc/stable/reference/generated/numpy.array.html)\n",
    "- np.arange(*[start], stop, [step]*), np.arange(*start=, stop=, step=*) [ref](https://numpy.org/doc/stable/reference/generated/numpy.arange.html#numpy.arange) \n",
    "- np.zeros(*shape*) [ref](https://numpy.org/doc/stable/reference/generated/numpy.zeros.html#numpy.zeros)\n",
    "- np.ones(*shape*) [ref](https://numpy.org/doc/stable/reference/generated/numpy.ones.html#numpy.ones)\n",
    "\n",
    "## 1-2. ndarray 데이터 확인\n",
    "- ndarray.shape : ndarray의 (행의 수, 열의 수) 튜플\n",
    "- ndarray.ndim : ndarray 차원\n",
    "- ndarray.dtype : ndarray 내 데이터 타입\n",
    "- ndarray.astype(*'data_type'*)\n",
    "- python type(*data*) : data의 데이터 타입"
   ]
  },
  {
   "cell_type": "code",
   "execution_count": 2,
   "id": "691acd50",
   "metadata": {},
   "outputs": [],
   "source": [
    "#1차원 array 생성\n",
    "arr1d = np.array([1, 2, 3])\n",
    "\n",
    "# 2차원 array 생성\n",
    "arr2d = np.array([[1, 2, 3],[4,5,6]])\n",
    "\n",
    "# 3차원 array 생성\n",
    "arr3d = np.array([[[1,2,3], [4, 5, 6]], [[7, 8, 9], [10, 11, 12]]])\n"
   ]
  },
  {
   "cell_type": "code",
   "execution_count": 3,
   "id": "38c775d6",
   "metadata": {},
   "outputs": [],
   "source": [
    "# array 요소의 type 지정하여 ndarray 생성\n",
    "array_float = np.array([1, 2, 3], dtype='float64')\n"
   ]
  },
  {
   "cell_type": "code",
   "execution_count": 4,
   "id": "c18f3f64",
   "metadata": {},
   "outputs": [
    {
     "name": "stdout",
     "output_type": "stream",
     "text": [
      "[0 1 2 3 4 5 6 7 8 9]\n",
      "int64 (10,)\n"
     ]
    }
   ],
   "source": [
    "# arange() 메서드 활용\n",
    "# 0 ~ 9 정수 배열 생성\n",
    "import numpy as np\n",
    "\n",
    "sequence_array = np.arange(10)\n",
    "print(sequence_array)\n",
    "print(sequence_array.dtype, sequence_array.shape)\n",
    "\n",
    "# [0.0 2.0 4.0 6.0 8.0] ndarray 생성\n",
    "sequence_array = np.arange(0,10,2,dtype='float')\n",
    "\n",
    "# [1 3 5 7 9] ndarray 생성\n",
    "sequence_array = np.arange(start=1,stop=10,step=2)"
   ]
  },
  {
   "cell_type": "code",
   "execution_count": 5,
   "id": "b226af0b",
   "metadata": {},
   "outputs": [],
   "source": [
    "# 요소가 모두 0인 ndarray 생성 (3행 2열 배열)\n",
    "zero_array = np.zeros((3,2), dtype='int')"
   ]
  },
  {
   "cell_type": "code",
   "execution_count": 6,
   "id": "b483036b",
   "metadata": {},
   "outputs": [],
   "source": [
    "# 요소가 모두 1인 ndarray 생성 (3행 2열 배열)\n",
    "one_array = np.ones((3,2))"
   ]
  },
  {
   "cell_type": "markdown",
   "id": "e5f3e07f",
   "metadata": {},
   "source": [
    "## 1-3. 변환 - reshape(), tolist()\n",
    "- 차원 변환 : ndarray.reshape(*shape*), ndarray.reshape(*row*, *colunm*)\n",
    "    - 원래 배열과 요소의 수가 다르면 error 발생\n",
    "    - row, column 중 하나에 -1값을 쓰면 알아서 변환\n",
    "- python list로 변환 : ndarray.tolist()"
   ]
  },
  {
   "cell_type": "code",
   "execution_count": 7,
   "id": "77f537ab",
   "metadata": {},
   "outputs": [],
   "source": [
    "# 요소가 10개인 1차원 ndarray\n",
    "array1 = np.arange(10)\n",
    "\n",
    "# 2행 5열 2차원 ndarray로 변환\n",
    "array2 = array1.reshape(2,5)\n",
    "\n",
    "# 5행 2열 2차원 ndarray로 변환\n",
    "array3 = array1.reshape(5,2)"
   ]
  },
  {
   "cell_type": "code",
   "execution_count": 8,
   "id": "ceafeec5",
   "metadata": {
    "scrolled": true
   },
   "outputs": [],
   "source": [
    "array1 = np.arange(12)\n",
    "array4 = array1.reshape(-1,4)"
   ]
  },
  {
   "cell_type": "code",
   "execution_count": 9,
   "id": "dfe498e4",
   "metadata": {},
   "outputs": [
    {
     "name": "stdout",
     "output_type": "stream",
     "text": [
      "array3d:\n",
      " [[[0, 1], [2, 3]], [[4, 5], [6, 7]]]\n"
     ]
    }
   ],
   "source": [
    "#  8개 요소를 갖는 1차원배열 생성 -> 각 요소가 2인 3차원 배열로 변환\n",
    "array1 = np.arange(8)\n",
    "array3d = array1.reshape((2,2,2))\n",
    "print('array3d:\\n',array3d.tolist())\n",
    "\n",
    "# 3차원 ndarray를 2차원 ndarray로 변환\n",
    "array5 = array3d.reshape(-1,2)\n",
    "\n",
    "# 1차원 ndarray를 2차원 ndarray로 변환\n",
    "array6 = array1.reshape(-1,2)"
   ]
  },
  {
   "cell_type": "markdown",
   "id": "ed5ea052",
   "metadata": {},
   "source": [
    "## 1-4. 데이터 세트 선택 (Indexing) : [ ]\n",
    "- 단일값 추출: [*index*]\n",
    "- Slicing : [*start*:*stop*:*step*]\n",
    "- Boolean Indexing : [*Boolean Condition*]\n",
    "- Fancy Indexing : [*list of index*]\n",
    "- index, start, end의 값이 음수인 경우 배열의 뒤에서부터 indexing"
   ]
  },
  {
   "cell_type": "markdown",
   "id": "8eb6ac53",
   "metadata": {},
   "source": [
    "### 1-4-1. 단일값 추출 : [*index*]"
   ]
  },
  {
   "cell_type": "code",
   "execution_count": 10,
   "id": "72429a6c",
   "metadata": {},
   "outputs": [
    {
     "name": "stdout",
     "output_type": "stream",
     "text": [
      "[1 2 3 4 5 6 7 8 9]\n",
      "9\n",
      "8\n"
     ]
    }
   ],
   "source": [
    "# 1에서 부터 9 까지의 1차원 ndarray 생성 \n",
    "array1 = np.arange(1,10)\n",
    "print(array1)\n",
    "\n",
    "# 제일 뒤의 값과 뒤에서 두번째 값 출력\n",
    "print(array1[-1])\n",
    "print(array1[-2])"
   ]
  },
  {
   "cell_type": "code",
   "execution_count": 11,
   "id": "3be935b4",
   "metadata": {
    "scrolled": true
   },
   "outputs": [
    {
     "name": "stdout",
     "output_type": "stream",
     "text": [
      "[[1 2 3]\n",
      " [4 5 6]\n",
      " [7 8 9]]\n",
      "(row=0,col=0) index 가리키는 값: 1\n",
      "(row=1,col=1) index 가리키는 값: 5\n",
      "(row=2,col=2) index 가리키는 값: 9\n"
     ]
    }
   ],
   "source": [
    "# 3행 3열의 정수 배열 생성\n",
    "array2d = np.arange(start=1, stop=10).reshape(3, 3)\n",
    "print(array2d)\n",
    "\n",
    "# (0,0) 값 (1,1) 값, (2, 2) 값 출력\n",
    "print('(row=0,col=0) index 가리키는 값:', array2d[0,0] )\n",
    "print('(row=1,col=1) index 가리키는 값:', array2d[1,1] )\n",
    "print('(row=2,col=2) index 가리키는 값:', array2d[2,2] )"
   ]
  },
  {
   "cell_type": "markdown",
   "id": "09769bcf",
   "metadata": {},
   "source": [
    "### 1-4-2. Slicing : [*start*:*stop*:*step*]"
   ]
  },
  {
   "cell_type": "code",
   "execution_count": 12,
   "id": "0d1d1541",
   "metadata": {},
   "outputs": [
    {
     "name": "stdout",
     "output_type": "stream",
     "text": [
      "[ 0  1  2  3  4  5  6  7  8  9 10 11]\n",
      "[0 1 2]\n",
      "[ 3  4  5  6  7  8  9 10 11]\n",
      "[ 0  1  2  3  4  5  6  7  8  9 10 11]\n",
      "[ 9 10 11]\n",
      "[0 1 2 3 4 5 6 7 8 9]\n",
      "[9 8 7 6 5 4 3 2 1 0]\n",
      "[11 10  9  8  7  6  5  4  3  2  1  0]\n"
     ]
    }
   ],
   "source": [
    "# array1에 0부터 11까지의 1차원 배열 생성\n",
    "array1 = np.arange(12)\n",
    "print(array1)\n",
    "\n",
    "# 앞에서 3개 요소 반환\n",
    "print(array1[:3])\n",
    "\n",
    "# 앞에서 3번째부터 마지막 요소까지 반환\n",
    "print(array1[3::])\n",
    "\n",
    "# 전체 반환\n",
    "print(array1[::])\n",
    "\n",
    "# 뒤에서 3번째 부터 반환\n",
    "print(array1[-3::])\n",
    "\n",
    "# 앞에서부터 뒤에서 3번째 요소까지 반환\n",
    "print(array1[:-2:])\n",
    "\n",
    "print(array1[-3::-1])\n",
    "\n",
    "# 뒤에서부터 모두 반환\n",
    "print(array1[::-1])"
   ]
  },
  {
   "cell_type": "markdown",
   "id": "baaffcf3",
   "metadata": {},
   "source": [
    "### 1-4-3. Boolean Indexing : [*Boolean Condition*]"
   ]
  },
  {
   "cell_type": "code",
   "execution_count": 13,
   "id": "cc0e6f97",
   "metadata": {},
   "outputs": [
    {
     "name": "stdout",
     "output_type": "stream",
     "text": [
      "[1 2 3 4 5 6 7 8 9]\n",
      "[6 7 8 9]\n",
      "[5 6 7 8]\n"
     ]
    }
   ],
   "source": [
    "array1d = np.arange(start=1, stop=10)\n",
    "print(array1d)\n",
    "\n",
    "# 5보다 큰 값만 출력\n",
    "print(array1d[array1d > 5])\n",
    "\n",
    "# 5보다 크고 8보다 작은 값만 출력\n",
    "print(array1d[(array1d >= 5) & (array1d <= 8)])"
   ]
  },
  {
   "cell_type": "code",
   "execution_count": 14,
   "id": "4f9e69ad",
   "metadata": {},
   "outputs": [
    {
     "name": "stdout",
     "output_type": "stream",
     "text": [
      "불린 인덱스로 필터링 결과 : [6 7 8 9]\n"
     ]
    }
   ],
   "source": [
    "boolean_indexes = np.array([False, False, False, False, False,  True,  True,  True,  True])\n",
    "array3 = array1d[boolean_indexes]\n",
    "print('불린 인덱스로 필터링 결과 :', array3)"
   ]
  },
  {
   "cell_type": "markdown",
   "id": "fa3c5b77",
   "metadata": {},
   "source": [
    "### 1-4-4. Fancy Indexing : [*list of index*]"
   ]
  },
  {
   "cell_type": "code",
   "execution_count": 15,
   "id": "9ea97e01",
   "metadata": {},
   "outputs": [
    {
     "name": "stdout",
     "output_type": "stream",
     "text": [
      "[1 2 3 4 5 6 7 8 9]\n"
     ]
    },
    {
     "data": {
      "text/plain": [
       "array([6, 2, 4, 3])"
      ]
     },
     "execution_count": 15,
     "metadata": {},
     "output_type": "execute_result"
    }
   ],
   "source": [
    "print(array1d)\n",
    "# index 5, 1, 3, 2 순서대로 데이터 출력\n",
    "index = [5, 1, 3, 2]\n",
    "np_index = np.array(index)\n",
    "array1d[index]\n"
   ]
  },
  {
   "cell_type": "markdown",
   "id": "aace4267",
   "metadata": {},
   "source": [
    "### 1-5. 정렬 : sort( )와 argsort( )\n",
    "\n",
    "- numpy.sort(*ndarray*, axis=) : 원 행렬 변경없음 → 반환값 활용\n",
    "- ndarray.sort() : 원 행렬 변경 → 반환값 없음\n",
    "- numpy.argsort(*ndarray*) : 정렬 시의 index 순서 반환"
   ]
  },
  {
   "cell_type": "code",
   "execution_count": 16,
   "id": "680337bf",
   "metadata": {},
   "outputs": [
    {
     "name": "stdout",
     "output_type": "stream",
     "text": [
      "[3 1 9 5]\n",
      "[3 1 9 5]\n",
      "[1 3 5 9]\n",
      "[1 3 5 9]\n",
      "[3 1 9 5]\n",
      "[1 0 3 2]\n"
     ]
    }
   ],
   "source": [
    "org_array = np.array([3, 1, 9, 5])\n",
    "print(org_array)\n",
    "org_backup = org_array.copy()\n",
    "print(org_backup)\n",
    "\n",
    "# np.sort( )로 정렬 후 원 행렬과 반환값 출력\n",
    "print(np.sort(org_array))\n",
    "\n",
    "# ndarray.sort( )로 정렬 후 원 행렬과 반환값 출력\n",
    "org_array.sort()\n",
    "print(org_array)\n",
    "print(org_backup)\n",
    "\n",
    "# no.argsort()로 인덱스만 반환\n",
    "print(np.argsort(org_backup))"
   ]
  },
  {
   "cell_type": "code",
   "execution_count": 17,
   "id": "e96e5f52",
   "metadata": {},
   "outputs": [],
   "source": [
    "# 내림차순으로 정렬\n",
    "sort_array1_desc = np.sort(org_array)[::-1]"
   ]
  },
  {
   "cell_type": "markdown",
   "id": "c73f38c4",
   "metadata": {},
   "source": [
    "#### [연습문제] 이름과 성적이 각각의 ndarray로 주어진 경우 이름을 성적 순서로 출력하기"
   ]
  },
  {
   "cell_type": "code",
   "execution_count": 18,
   "id": "75167414",
   "metadata": {},
   "outputs": [
    {
     "name": "stdout",
     "output_type": "stream",
     "text": [
      "[3 1 4 2 0]\n",
      "['Kate' 'Mike' 'Samuel' 'Sarah' 'John']\n"
     ]
    }
   ],
   "source": [
    "import numpy as np\n",
    "\n",
    "name_array = np.array(['John', 'Mike', 'Sarah', 'Kate', 'Samuel'])\n",
    "score_array= np.array([78, 95, 84, 98, 88])\n",
    "\n",
    "# 성적을 index로 정렬\n",
    "score_index = np.argsort(score_array)[::-1]\n",
    "print(score_index)\n",
    "\n",
    "# 정렬된 순서대로 해당 이름을 출력\n",
    "print(name_array[score_index])"
   ]
  },
  {
   "cell_type": "markdown",
   "id": "c740ed46",
   "metadata": {},
   "source": [
    "# [2] 판다스 (Pandas)\n",
    "#### DataFrame 기반 데이터 핸들링\n",
    "1. 생성 및 변환\n",
    "1. 데이터 확인\n",
    "1. 결측치 처리\n",
    "2. 중복값 처리\n",
    "1. 컬럼 생성, 수정, 삭제\n",
    "1. 정렬"
   ]
  },
  {
   "cell_type": "code",
   "execution_count": 19,
   "id": "1f17eb8d",
   "metadata": {},
   "outputs": [],
   "source": [
    "import pandas as pd"
   ]
  },
  {
   "cell_type": "markdown",
   "id": "4edec6b5",
   "metadata": {},
   "source": [
    "## 2-1. 파일을 DataFrame으로 로딩\n",
    "- pandas.read_csv(*file_path/url*, sep=, encoding=, ...)\n",
    "- pandas.read_json(*file_path/url*, encoding=, ...)"
   ]
  },
  {
   "cell_type": "code",
   "execution_count": 20,
   "id": "8b0bb986",
   "metadata": {},
   "outputs": [
    {
     "data": {
      "text/html": [
       "<div>\n",
       "<style scoped>\n",
       "    .dataframe tbody tr th:only-of-type {\n",
       "        vertical-align: middle;\n",
       "    }\n",
       "\n",
       "    .dataframe tbody tr th {\n",
       "        vertical-align: top;\n",
       "    }\n",
       "\n",
       "    .dataframe thead th {\n",
       "        text-align: right;\n",
       "    }\n",
       "</style>\n",
       "<table border=\"1\" class=\"dataframe\">\n",
       "  <thead>\n",
       "    <tr style=\"text-align: right;\">\n",
       "      <th></th>\n",
       "      <th>Name</th>\n",
       "      <th>Age</th>\n",
       "      <th>Gender</th>\n",
       "      <th>City</th>\n",
       "    </tr>\n",
       "  </thead>\n",
       "  <tbody>\n",
       "    <tr>\n",
       "      <th>0</th>\n",
       "      <td>Alice</td>\n",
       "      <td>24.0</td>\n",
       "      <td>F</td>\n",
       "      <td>New York</td>\n",
       "    </tr>\n",
       "    <tr>\n",
       "      <th>1</th>\n",
       "      <td>Bob</td>\n",
       "      <td>NaN</td>\n",
       "      <td>M</td>\n",
       "      <td>Los Angeles</td>\n",
       "    </tr>\n",
       "    <tr>\n",
       "      <th>2</th>\n",
       "      <td>Charlie</td>\n",
       "      <td>22.0</td>\n",
       "      <td>M</td>\n",
       "      <td>NaN</td>\n",
       "    </tr>\n",
       "    <tr>\n",
       "      <th>3</th>\n",
       "      <td>David</td>\n",
       "      <td>29.0</td>\n",
       "      <td>M</td>\n",
       "      <td>Chicago</td>\n",
       "    </tr>\n",
       "    <tr>\n",
       "      <th>4</th>\n",
       "      <td>Edward</td>\n",
       "      <td>NaN</td>\n",
       "      <td>M</td>\n",
       "      <td>Houston</td>\n",
       "    </tr>\n",
       "    <tr>\n",
       "      <th>5</th>\n",
       "      <td>Alice</td>\n",
       "      <td>24.0</td>\n",
       "      <td>F</td>\n",
       "      <td>New York</td>\n",
       "    </tr>\n",
       "    <tr>\n",
       "      <th>6</th>\n",
       "      <td>Susan</td>\n",
       "      <td>32.0</td>\n",
       "      <td>F</td>\n",
       "      <td>Houston</td>\n",
       "    </tr>\n",
       "  </tbody>\n",
       "</table>\n",
       "</div>"
      ],
      "text/plain": [
       "      Name   Age Gender         City\n",
       "0    Alice  24.0      F     New York\n",
       "1      Bob   NaN      M  Los Angeles\n",
       "2  Charlie  22.0      M          NaN\n",
       "3    David  29.0      M      Chicago\n",
       "4   Edward   NaN      M      Houston\n",
       "5    Alice  24.0      F     New York\n",
       "6    Susan  32.0      F      Houston"
      ]
     },
     "execution_count": 20,
     "metadata": {},
     "output_type": "execute_result"
    }
   ],
   "source": [
    "# sample_data.csv 로딩\n",
    "sample_df = pd.read_csv('./data/sample_data.csv')\n",
    "sample_df"
   ]
  },
  {
   "cell_type": "markdown",
   "id": "5c4114c6",
   "metadata": {},
   "source": [
    "## 2-2. 데이터 확인을 위한 속성 및 메서드\n",
    "- dataframe.head(*num_row=5*) : 앞 부분 출력\n",
    "- dataframe.tail(*num_row=5*) : 뒷 부분 출력\n",
    "- dataframe.shape : 행, 렬의 크기\n",
    "- dataframe.info() : 데이터 갯수, null값(결측치, NaN) 등 확인\n",
    "- python len(*dataframe*) : 데이터 갯수\n",
    "- dataframe.describe() : 기술 통계값\n",
    "  - 데이터형이 float나 int인 열에만 적용\n",
    "  - 각 열의 개수(count), 평균(mean), 표준편차(std), 최솟값(min), 최댓값(max) 등의 통계치 확인 가능\n",
    "- dataframe.value_counts(dropna=True) : 속성값별 갯수"
   ]
  },
  {
   "cell_type": "code",
   "execution_count": 21,
   "id": "b5b4c423",
   "metadata": {},
   "outputs": [
    {
     "data": {
      "text/html": [
       "<div>\n",
       "<style scoped>\n",
       "    .dataframe tbody tr th:only-of-type {\n",
       "        vertical-align: middle;\n",
       "    }\n",
       "\n",
       "    .dataframe tbody tr th {\n",
       "        vertical-align: top;\n",
       "    }\n",
       "\n",
       "    .dataframe thead th {\n",
       "        text-align: right;\n",
       "    }\n",
       "</style>\n",
       "<table border=\"1\" class=\"dataframe\">\n",
       "  <thead>\n",
       "    <tr style=\"text-align: right;\">\n",
       "      <th></th>\n",
       "      <th>Name</th>\n",
       "      <th>Age</th>\n",
       "      <th>Gender</th>\n",
       "      <th>City</th>\n",
       "    </tr>\n",
       "  </thead>\n",
       "  <tbody>\n",
       "    <tr>\n",
       "      <th>0</th>\n",
       "      <td>Alice</td>\n",
       "      <td>24.0</td>\n",
       "      <td>F</td>\n",
       "      <td>New York</td>\n",
       "    </tr>\n",
       "    <tr>\n",
       "      <th>1</th>\n",
       "      <td>Bob</td>\n",
       "      <td>NaN</td>\n",
       "      <td>M</td>\n",
       "      <td>Los Angeles</td>\n",
       "    </tr>\n",
       "    <tr>\n",
       "      <th>2</th>\n",
       "      <td>Charlie</td>\n",
       "      <td>22.0</td>\n",
       "      <td>M</td>\n",
       "      <td>NaN</td>\n",
       "    </tr>\n",
       "  </tbody>\n",
       "</table>\n",
       "</div>"
      ],
      "text/plain": [
       "      Name   Age Gender         City\n",
       "0    Alice  24.0      F     New York\n",
       "1      Bob   NaN      M  Los Angeles\n",
       "2  Charlie  22.0      M          NaN"
      ]
     },
     "execution_count": 21,
     "metadata": {},
     "output_type": "execute_result"
    }
   ],
   "source": [
    "# 앞부분 3열\n",
    "sample_df.head(3)"
   ]
  },
  {
   "cell_type": "code",
   "execution_count": 22,
   "id": "4f9af094-865d-45be-8ee7-59debcdedf60",
   "metadata": {},
   "outputs": [
    {
     "data": {
      "text/html": [
       "<div>\n",
       "<style scoped>\n",
       "    .dataframe tbody tr th:only-of-type {\n",
       "        vertical-align: middle;\n",
       "    }\n",
       "\n",
       "    .dataframe tbody tr th {\n",
       "        vertical-align: top;\n",
       "    }\n",
       "\n",
       "    .dataframe thead th {\n",
       "        text-align: right;\n",
       "    }\n",
       "</style>\n",
       "<table border=\"1\" class=\"dataframe\">\n",
       "  <thead>\n",
       "    <tr style=\"text-align: right;\">\n",
       "      <th></th>\n",
       "      <th>Name</th>\n",
       "      <th>Age</th>\n",
       "      <th>Gender</th>\n",
       "      <th>City</th>\n",
       "    </tr>\n",
       "  </thead>\n",
       "  <tbody>\n",
       "    <tr>\n",
       "      <th>4</th>\n",
       "      <td>Edward</td>\n",
       "      <td>NaN</td>\n",
       "      <td>M</td>\n",
       "      <td>Houston</td>\n",
       "    </tr>\n",
       "    <tr>\n",
       "      <th>5</th>\n",
       "      <td>Alice</td>\n",
       "      <td>24.0</td>\n",
       "      <td>F</td>\n",
       "      <td>New York</td>\n",
       "    </tr>\n",
       "    <tr>\n",
       "      <th>6</th>\n",
       "      <td>Susan</td>\n",
       "      <td>32.0</td>\n",
       "      <td>F</td>\n",
       "      <td>Houston</td>\n",
       "    </tr>\n",
       "  </tbody>\n",
       "</table>\n",
       "</div>"
      ],
      "text/plain": [
       "     Name   Age Gender      City\n",
       "4  Edward   NaN      M   Houston\n",
       "5   Alice  24.0      F  New York\n",
       "6   Susan  32.0      F   Houston"
      ]
     },
     "execution_count": 22,
     "metadata": {},
     "output_type": "execute_result"
    }
   ],
   "source": [
    "# 뒷부분 3열\n",
    "sample_df.tail(3)"
   ]
  },
  {
   "cell_type": "code",
   "execution_count": 23,
   "id": "cc8ad21a",
   "metadata": {},
   "outputs": [
    {
     "name": "stdout",
     "output_type": "stream",
     "text": [
      "(7, 4) 7\n",
      "<class 'pandas.core.frame.DataFrame'>\n",
      "RangeIndex: 7 entries, 0 to 6\n",
      "Data columns (total 4 columns):\n",
      " #   Column  Non-Null Count  Dtype  \n",
      "---  ------  --------------  -----  \n",
      " 0   Name    7 non-null      object \n",
      " 1   Age     5 non-null      float64\n",
      " 2   Gender  7 non-null      object \n",
      " 3   City    6 non-null      object \n",
      "dtypes: float64(1), object(3)\n",
      "memory usage: 352.0+ bytes\n"
     ]
    }
   ],
   "source": [
    "# 크기, 갯수, 결측치 확인\n",
    "print(sample_df.shape, len(sample_df))\n",
    "sample_df.info()"
   ]
  },
  {
   "cell_type": "code",
   "execution_count": 24,
   "id": "a7566af4",
   "metadata": {},
   "outputs": [
    {
     "data": {
      "text/html": [
       "<div>\n",
       "<style scoped>\n",
       "    .dataframe tbody tr th:only-of-type {\n",
       "        vertical-align: middle;\n",
       "    }\n",
       "\n",
       "    .dataframe tbody tr th {\n",
       "        vertical-align: top;\n",
       "    }\n",
       "\n",
       "    .dataframe thead th {\n",
       "        text-align: right;\n",
       "    }\n",
       "</style>\n",
       "<table border=\"1\" class=\"dataframe\">\n",
       "  <thead>\n",
       "    <tr style=\"text-align: right;\">\n",
       "      <th></th>\n",
       "      <th>Age</th>\n",
       "    </tr>\n",
       "  </thead>\n",
       "  <tbody>\n",
       "    <tr>\n",
       "      <th>count</th>\n",
       "      <td>5.000000</td>\n",
       "    </tr>\n",
       "    <tr>\n",
       "      <th>mean</th>\n",
       "      <td>26.200000</td>\n",
       "    </tr>\n",
       "    <tr>\n",
       "      <th>std</th>\n",
       "      <td>4.147288</td>\n",
       "    </tr>\n",
       "    <tr>\n",
       "      <th>min</th>\n",
       "      <td>22.000000</td>\n",
       "    </tr>\n",
       "    <tr>\n",
       "      <th>25%</th>\n",
       "      <td>24.000000</td>\n",
       "    </tr>\n",
       "    <tr>\n",
       "      <th>50%</th>\n",
       "      <td>24.000000</td>\n",
       "    </tr>\n",
       "    <tr>\n",
       "      <th>75%</th>\n",
       "      <td>29.000000</td>\n",
       "    </tr>\n",
       "    <tr>\n",
       "      <th>max</th>\n",
       "      <td>32.000000</td>\n",
       "    </tr>\n",
       "  </tbody>\n",
       "</table>\n",
       "</div>"
      ],
      "text/plain": [
       "             Age\n",
       "count   5.000000\n",
       "mean   26.200000\n",
       "std     4.147288\n",
       "min    22.000000\n",
       "25%    24.000000\n",
       "50%    24.000000\n",
       "75%    29.000000\n",
       "max    32.000000"
      ]
     },
     "execution_count": 24,
     "metadata": {},
     "output_type": "execute_result"
    }
   ],
   "source": [
    "# 기술 통계값 확인\n",
    "sample_df.describe()"
   ]
  },
  {
   "cell_type": "code",
   "execution_count": 25,
   "id": "a98256b7",
   "metadata": {},
   "outputs": [
    {
     "data": {
      "text/plain": [
       "Age\n",
       "24.0    2\n",
       "NaN     2\n",
       "22.0    1\n",
       "29.0    1\n",
       "32.0    1\n",
       "Name: count, dtype: int64"
      ]
     },
     "execution_count": 25,
     "metadata": {},
     "output_type": "execute_result"
    }
   ],
   "source": [
    "# 속성값별 갯수 확인\n",
    "sample_df['Age'].value_counts(dropna=False)"
   ]
  },
  {
   "cell_type": "markdown",
   "id": "f4509d87",
   "metadata": {},
   "source": [
    "## 2-3. DataFrame 생성 : pd.DataFrame()\n",
    "    * pd.DataFrame(*list/ndarray*, columns=)\n",
    "    * pd.DataFrame(*dictionary*)\n",
    "        * Key는 컬럼명으로 매핑, Value는 리스트 형(또는 ndarray)"
   ]
  },
  {
   "cell_type": "code",
   "execution_count": 26,
   "id": "9d757574",
   "metadata": {},
   "outputs": [
    {
     "name": "stdout",
     "output_type": "stream",
     "text": [
      "array1 shape: (3,)\n"
     ]
    }
   ],
   "source": [
    "import numpy as np\n",
    "\n",
    "col_name1=['col1']\n",
    "list1 = [1, 2, 3]\n",
    "array1 = np.array(list1)\n",
    "print('array1 shape:', array1.shape )\n",
    "\n",
    "# list를 이용해 DataFrame 생성\n",
    "df_list1 = pd.DataFrame(list1, columns=col_name1)\n",
    "\n",
    "# ndarray를 이용해 DataFrame 생성\n",
    "df_array1 = pd.DataFrame(array1, columns=col_name1)\n"
   ]
  },
  {
   "cell_type": "code",
   "execution_count": 27,
   "id": "908b523a",
   "metadata": {},
   "outputs": [],
   "source": [
    "# 2행x3열 형태의 리스트와 ndarray 생성한 뒤 이를 DataFrame으로 변환.\n",
    "col_name2=['col1', 'col2', 'col3']\n",
    "list2 = [[1, 2, 3], [11, 12, 13]]\n",
    "array2 = np.array(list2)\n",
    "\n",
    "# list를 이용해 DataFrame 생성\n",
    "df_list2 = pd.DataFrame(list2, columns=col_name2)\n",
    "\n",
    "# ndarray를 이용해 DataFrame 생성\n",
    "df_array2 = pd.DataFrame(array2, columns=col_name2)"
   ]
  },
  {
   "cell_type": "code",
   "execution_count": 28,
   "id": "eb988f88",
   "metadata": {
    "scrolled": true
   },
   "outputs": [],
   "source": [
    "# dictionary를 이용해 DataFrame 생성\n",
    "dict = {'col1':[1, 11], 'col2':[2, 22], 'col3':[3, 33]}\n",
    "df_dict = pd.DataFrame(dict)"
   ]
  },
  {
   "cell_type": "markdown",
   "id": "dcbc1508-34f3-4d55-8d60-d50bc24a210c",
   "metadata": {},
   "source": [
    "## 2-4. DataFrame을 list, dictionary, ndarray로 변환\n",
    "- dataframe.values : ndarray로 변환\n",
    "- dataframe.values.tolist() : list로 변환\n",
    "- dataframe.to_dict(orient=) : dictionary로 변환\n",
    "  * 'dict' (default) : column -> {index -> value}\n",
    "  * 'list' : column -> [values]"
   ]
  },
  {
   "cell_type": "code",
   "execution_count": 29,
   "id": "e85ab8c5",
   "metadata": {},
   "outputs": [],
   "source": [
    "# DataFrame을 ndarray로 변환 (df_dict)\n",
    "array3 = df_dict.values\n",
    "\n",
    "# DataFrame을 리스트로 변환\n",
    "list3 = df_dict.values.tolist()\n",
    "\n",
    "# DataFrame을 딕셔너리로 변환\n",
    "dict3 = df_dict.to_dict('list')\n"
   ]
  },
  {
   "cell_type": "markdown",
   "id": "763402a6",
   "metadata": {},
   "source": [
    "## 2-5. 결측치 처리하기\n",
    "* 결측치 확인 : info(), isnull()\n",
    "* 결측치 포함 행 삭제 : dataframe.dropna(subset=, inplace=)\n",
    "    - subset = *List* (지정 된 범위에 null이 있을 경우 Row 삭제)\n",
    "* 새로운 값으로 채우기 : dataframe.fillna(value, inplace=)\n",
    "   * 특정 컬럼에 해당하는 값만 채우려는 경우 : DataFrame **[** *name* **]**.**fillna**(...)"
   ]
  },
  {
   "cell_type": "code",
   "execution_count": 30,
   "id": "3bef71a7",
   "metadata": {},
   "outputs": [
    {
     "data": {
      "text/html": [
       "<div>\n",
       "<style scoped>\n",
       "    .dataframe tbody tr th:only-of-type {\n",
       "        vertical-align: middle;\n",
       "    }\n",
       "\n",
       "    .dataframe tbody tr th {\n",
       "        vertical-align: top;\n",
       "    }\n",
       "\n",
       "    .dataframe thead th {\n",
       "        text-align: right;\n",
       "    }\n",
       "</style>\n",
       "<table border=\"1\" class=\"dataframe\">\n",
       "  <thead>\n",
       "    <tr style=\"text-align: right;\">\n",
       "      <th></th>\n",
       "      <th>Name</th>\n",
       "      <th>Age</th>\n",
       "      <th>Gender</th>\n",
       "      <th>City</th>\n",
       "    </tr>\n",
       "  </thead>\n",
       "  <tbody>\n",
       "    <tr>\n",
       "      <th>0</th>\n",
       "      <td>Alice</td>\n",
       "      <td>24.0</td>\n",
       "      <td>F</td>\n",
       "      <td>New York</td>\n",
       "    </tr>\n",
       "    <tr>\n",
       "      <th>1</th>\n",
       "      <td>Bob</td>\n",
       "      <td>NaN</td>\n",
       "      <td>M</td>\n",
       "      <td>Los Angeles</td>\n",
       "    </tr>\n",
       "    <tr>\n",
       "      <th>2</th>\n",
       "      <td>Charlie</td>\n",
       "      <td>22.0</td>\n",
       "      <td>M</td>\n",
       "      <td>NaN</td>\n",
       "    </tr>\n",
       "    <tr>\n",
       "      <th>3</th>\n",
       "      <td>David</td>\n",
       "      <td>29.0</td>\n",
       "      <td>M</td>\n",
       "      <td>Chicago</td>\n",
       "    </tr>\n",
       "    <tr>\n",
       "      <th>4</th>\n",
       "      <td>Edward</td>\n",
       "      <td>NaN</td>\n",
       "      <td>M</td>\n",
       "      <td>Houston</td>\n",
       "    </tr>\n",
       "    <tr>\n",
       "      <th>5</th>\n",
       "      <td>Alice</td>\n",
       "      <td>24.0</td>\n",
       "      <td>F</td>\n",
       "      <td>New York</td>\n",
       "    </tr>\n",
       "    <tr>\n",
       "      <th>6</th>\n",
       "      <td>Susan</td>\n",
       "      <td>32.0</td>\n",
       "      <td>F</td>\n",
       "      <td>Houston</td>\n",
       "    </tr>\n",
       "  </tbody>\n",
       "</table>\n",
       "</div>"
      ],
      "text/plain": [
       "      Name   Age Gender         City\n",
       "0    Alice  24.0      F     New York\n",
       "1      Bob   NaN      M  Los Angeles\n",
       "2  Charlie  22.0      M          NaN\n",
       "3    David  29.0      M      Chicago\n",
       "4   Edward   NaN      M      Houston\n",
       "5    Alice  24.0      F     New York\n",
       "6    Susan  32.0      F      Houston"
      ]
     },
     "execution_count": 30,
     "metadata": {},
     "output_type": "execute_result"
    }
   ],
   "source": [
    "# sample_data.csv을 dataframe으로 로딩하여 결측치 확인\n",
    "pd.read_csv(\"./data/sample_data.csv\", sep=\",\", encoding=\"utf-8\")"
   ]
  },
  {
   "cell_type": "code",
   "execution_count": 31,
   "id": "c4a22691",
   "metadata": {},
   "outputs": [
    {
     "data": {
      "text/plain": [
       "Name      0\n",
       "Age       2\n",
       "Gender    0\n",
       "City      1\n",
       "dtype: int64"
      ]
     },
     "execution_count": 31,
     "metadata": {},
     "output_type": "execute_result"
    }
   ],
   "source": [
    "# 결측치 확인 : 컬럼별 결측치 갯수 계산\n",
    "sample_df.isnull().sum()"
   ]
  },
  {
   "cell_type": "code",
   "execution_count": 32,
   "id": "664edbc2-f8b8-4128-9f5d-8ae5c80c24f1",
   "metadata": {},
   "outputs": [
    {
     "data": {
      "text/plain": [
       "0    False\n",
       "1     True\n",
       "2     True\n",
       "3    False\n",
       "4     True\n",
       "5    False\n",
       "6    False\n",
       "dtype: bool"
      ]
     },
     "execution_count": 32,
     "metadata": {},
     "output_type": "execute_result"
    }
   ],
   "source": [
    "sample_df.isnull().any(axis=1)"
   ]
  },
  {
   "cell_type": "code",
   "execution_count": 33,
   "id": "5d88f75e-0748-4b5e-8a08-815e302f0d55",
   "metadata": {},
   "outputs": [
    {
     "data": {
      "text/html": [
       "<div>\n",
       "<style scoped>\n",
       "    .dataframe tbody tr th:only-of-type {\n",
       "        vertical-align: middle;\n",
       "    }\n",
       "\n",
       "    .dataframe tbody tr th {\n",
       "        vertical-align: top;\n",
       "    }\n",
       "\n",
       "    .dataframe thead th {\n",
       "        text-align: right;\n",
       "    }\n",
       "</style>\n",
       "<table border=\"1\" class=\"dataframe\">\n",
       "  <thead>\n",
       "    <tr style=\"text-align: right;\">\n",
       "      <th></th>\n",
       "      <th>Name</th>\n",
       "      <th>Age</th>\n",
       "      <th>Gender</th>\n",
       "      <th>City</th>\n",
       "    </tr>\n",
       "  </thead>\n",
       "  <tbody>\n",
       "    <tr>\n",
       "      <th>1</th>\n",
       "      <td>Bob</td>\n",
       "      <td>NaN</td>\n",
       "      <td>M</td>\n",
       "      <td>Los Angeles</td>\n",
       "    </tr>\n",
       "    <tr>\n",
       "      <th>2</th>\n",
       "      <td>Charlie</td>\n",
       "      <td>22.0</td>\n",
       "      <td>M</td>\n",
       "      <td>NaN</td>\n",
       "    </tr>\n",
       "    <tr>\n",
       "      <th>4</th>\n",
       "      <td>Edward</td>\n",
       "      <td>NaN</td>\n",
       "      <td>M</td>\n",
       "      <td>Houston</td>\n",
       "    </tr>\n",
       "  </tbody>\n",
       "</table>\n",
       "</div>"
      ],
      "text/plain": [
       "      Name   Age Gender         City\n",
       "1      Bob   NaN      M  Los Angeles\n",
       "2  Charlie  22.0      M          NaN\n",
       "4   Edward   NaN      M      Houston"
      ]
     },
     "execution_count": 33,
     "metadata": {},
     "output_type": "execute_result"
    }
   ],
   "source": [
    "sample_df[sample_df.isnull().any(axis=1)]"
   ]
  },
  {
   "cell_type": "code",
   "execution_count": 34,
   "id": "b3a6867d-a644-44b9-8bbe-accd7a62e380",
   "metadata": {},
   "outputs": [
    {
     "data": {
      "text/html": [
       "<div>\n",
       "<style scoped>\n",
       "    .dataframe tbody tr th:only-of-type {\n",
       "        vertical-align: middle;\n",
       "    }\n",
       "\n",
       "    .dataframe tbody tr th {\n",
       "        vertical-align: top;\n",
       "    }\n",
       "\n",
       "    .dataframe thead th {\n",
       "        text-align: right;\n",
       "    }\n",
       "</style>\n",
       "<table border=\"1\" class=\"dataframe\">\n",
       "  <thead>\n",
       "    <tr style=\"text-align: right;\">\n",
       "      <th></th>\n",
       "      <th>Name</th>\n",
       "      <th>Age</th>\n",
       "      <th>Gender</th>\n",
       "      <th>City</th>\n",
       "    </tr>\n",
       "  </thead>\n",
       "  <tbody>\n",
       "    <tr>\n",
       "      <th>1</th>\n",
       "      <td>Bob</td>\n",
       "      <td>NaN</td>\n",
       "      <td>M</td>\n",
       "      <td>Los Angeles</td>\n",
       "    </tr>\n",
       "    <tr>\n",
       "      <th>2</th>\n",
       "      <td>Charlie</td>\n",
       "      <td>22.0</td>\n",
       "      <td>M</td>\n",
       "      <td>NaN</td>\n",
       "    </tr>\n",
       "    <tr>\n",
       "      <th>4</th>\n",
       "      <td>Edward</td>\n",
       "      <td>NaN</td>\n",
       "      <td>M</td>\n",
       "      <td>Houston</td>\n",
       "    </tr>\n",
       "  </tbody>\n",
       "</table>\n",
       "</div>"
      ],
      "text/plain": [
       "      Name   Age Gender         City\n",
       "1      Bob   NaN      M  Los Angeles\n",
       "2  Charlie  22.0      M          NaN\n",
       "4   Edward   NaN      M      Houston"
      ]
     },
     "execution_count": 34,
     "metadata": {},
     "output_type": "execute_result"
    }
   ],
   "source": [
    "# 결측치가 있는 행 추출 \n",
    "null_df = sample_df[sample_df.isnull().any(axis=1)]\n",
    "null_df"
   ]
  },
  {
   "cell_type": "code",
   "execution_count": 35,
   "id": "fe9f76a4-b7c6-4ca7-8757-c796ac58928e",
   "metadata": {
    "scrolled": true
   },
   "outputs": [],
   "source": [
    "# 결측치가 있는 행 삭제\n",
    "sample_df.dropna(inplace=True)\n",
    "sample_df.dropna(subset=['City'], inplace=True)"
   ]
  },
  {
   "cell_type": "markdown",
   "id": "a21acf4e-0b90-4329-9e56-e4aac21fc0f2",
   "metadata": {},
   "source": [
    "## 2-6. 중복값 처리하기\n",
    "* 중복값 확인 : duplicated(keep=)\n",
    "    - keep = True (첫번째 포함)\n",
    "* 중복값 삭제 : drop_duplicates(subset=, inplace=)\n",
    "    - subset = *List* (지정 된 범위에 null이 있을 경우 Row 삭제)"
   ]
  },
  {
   "cell_type": "code",
   "execution_count": 36,
   "id": "fc8a102a-d48f-41bc-b70c-9196af937a05",
   "metadata": {},
   "outputs": [
    {
     "data": {
      "text/plain": [
       "0     True\n",
       "3    False\n",
       "5     True\n",
       "6    False\n",
       "dtype: bool"
      ]
     },
     "execution_count": 36,
     "metadata": {},
     "output_type": "execute_result"
    }
   ],
   "source": [
    "# 중복값인 행 확인\n",
    "sample_df.duplicated(keep=False)"
   ]
  },
  {
   "cell_type": "code",
   "execution_count": 37,
   "id": "28b7f874-3863-408f-9398-cbbd9ea98aa7",
   "metadata": {},
   "outputs": [
    {
     "data": {
      "text/html": [
       "<div>\n",
       "<style scoped>\n",
       "    .dataframe tbody tr th:only-of-type {\n",
       "        vertical-align: middle;\n",
       "    }\n",
       "\n",
       "    .dataframe tbody tr th {\n",
       "        vertical-align: top;\n",
       "    }\n",
       "\n",
       "    .dataframe thead th {\n",
       "        text-align: right;\n",
       "    }\n",
       "</style>\n",
       "<table border=\"1\" class=\"dataframe\">\n",
       "  <thead>\n",
       "    <tr style=\"text-align: right;\">\n",
       "      <th></th>\n",
       "      <th>Name</th>\n",
       "      <th>Age</th>\n",
       "      <th>Gender</th>\n",
       "      <th>City</th>\n",
       "    </tr>\n",
       "  </thead>\n",
       "  <tbody>\n",
       "    <tr>\n",
       "      <th>0</th>\n",
       "      <td>Alice</td>\n",
       "      <td>24.0</td>\n",
       "      <td>F</td>\n",
       "      <td>New York</td>\n",
       "    </tr>\n",
       "    <tr>\n",
       "      <th>5</th>\n",
       "      <td>Alice</td>\n",
       "      <td>24.0</td>\n",
       "      <td>F</td>\n",
       "      <td>New York</td>\n",
       "    </tr>\n",
       "  </tbody>\n",
       "</table>\n",
       "</div>"
      ],
      "text/plain": [
       "    Name   Age Gender      City\n",
       "0  Alice  24.0      F  New York\n",
       "5  Alice  24.0      F  New York"
      ]
     },
     "execution_count": 37,
     "metadata": {},
     "output_type": "execute_result"
    }
   ],
   "source": [
    "# 중복값인 행 추출\n",
    "du_df = sample_df[sample_df.duplicated(keep=False)]\n",
    "du_df"
   ]
  },
  {
   "cell_type": "code",
   "execution_count": 38,
   "id": "a9644241-e842-49bc-97ad-f2026a87aa03",
   "metadata": {},
   "outputs": [],
   "source": [
    "# 중복값인 행 삭제\n",
    "sample_df.drop_duplicates(inplace=True)"
   ]
  },
  {
   "cell_type": "markdown",
   "id": "341be3e0",
   "metadata": {},
   "source": [
    "## 2-7. 컬럼 생성, 수정, 삭제\n",
    "* dataframe['컬럼명'] = data\n",
    "* dataframe['컬럼명'] = dataframe 컬럼 간 연산\n",
    "* drop(*컬럼명 리스트*, axis=1, inplace=)"
   ]
  },
  {
   "cell_type": "code",
   "execution_count": 41,
   "id": "a98ee88d",
   "metadata": {},
   "outputs": [],
   "source": [
    "# 값이 모두 0인 'Age_0' 칼럼 생성\n",
    "sample_df['Age_0']=0"
   ]
  },
  {
   "cell_type": "code",
   "execution_count": 42,
   "id": "e345c18b",
   "metadata": {},
   "outputs": [],
   "source": [
    "# 'Age' 칼럼의 값에 모두 10을 곱한 'Age_by_10' 칼럼 생성\n",
    "sample_df['Age_by_10']=sample_df['Age']*10"
   ]
  },
  {
   "cell_type": "code",
   "execution_count": 43,
   "id": "9124a95a",
   "metadata": {},
   "outputs": [],
   "source": [
    "# 'Age_0' 컬럼 삭제\n",
    "sample_df=sample_df.drop('Age_0', axis=1)"
   ]
  },
  {
   "cell_type": "markdown",
   "id": "e027c240",
   "metadata": {},
   "source": [
    "## 2-8. 정렬\n",
    "\n",
    "* dataframe.sort_values(by=컬럼리스트, ascending=True/False)"
   ]
  },
  {
   "cell_type": "code",
   "execution_count": null,
   "id": "a870c68f-15ee-4f6b-87b5-20f4c683229d",
   "metadata": {},
   "outputs": [],
   "source": [
    "# 'City' 정보를 기준으로 정렬\n",
    "sample_df.sort_values(by='City', ascending=True)"
   ]
  },
  {
   "cell_type": "markdown",
   "id": "a8493bbf-a5b0-4126-b46b-a3c032fe6579",
   "metadata": {},
   "source": [
    "# 3. 맷플롯립 (Matplotlib)\n",
    "1. 데이터 준비 : x 데이터, y 데이터\n",
    "2. 그래프 생성 : 선 그래프 (Line Plot), 막대 그래프 (Bar Plot)\n",
    "   * plot(x, y), bar(x, y), barh(x, y)\n",
    "4. 제목, 레이블, 범례 등 추가\n",
    "   * title(), xlabel(), ylabel()\n",
    "6. 출력\n",
    "   * 화면 : show()\n",
    "   * 저장 : savefig() → show()를 하지 않아야 함 (화면 출력도 함) "
   ]
  },
  {
   "cell_type": "code",
   "execution_count": 45,
   "id": "e36ef35d-8363-4d6a-9c48-7472750800dd",
   "metadata": {},
   "outputs": [],
   "source": [
    "import matplotlib.pyplot as plt"
   ]
  },
  {
   "cell_type": "code",
   "execution_count": 46,
   "id": "73acf7ed-ddd4-4524-a4a1-a3a1f2e610bd",
   "metadata": {},
   "outputs": [],
   "source": [
    "# matplotlib 한글 폰트 설정\n",
    "from matplotlib import font_manager, rc #runtime configuration\n",
    "\n",
    "font_path = \"c:/Windows/Fonts/malgun.ttf\"\n",
    "font_name = font_manager.FontProperties(fname=font_path).get_name()\n",
    "# 맥인 경우에는 아래와 같이 font_name을 지정\n",
    "# font_name = 'AppleGothic'\n",
    "rc('font', family=font_name)"
   ]
  },
  {
   "cell_type": "code",
   "execution_count": 47,
   "id": "883ea5df-19fd-4df9-9d01-2b19b1a12c81",
   "metadata": {},
   "outputs": [],
   "source": [
    "# 데이터 준비\n",
    "x = ['A', 'B', 'C']\n",
    "y = [4, 5, 6]"
   ]
  },
  {
   "cell_type": "code",
   "execution_count": 49,
   "id": "7fb2491c-17bb-4358-8518-4c167ba5303a",
   "metadata": {},
   "outputs": [
    {
     "data": {
      "image/png": "[encoded data removed]",
      "text/plain": [
       "<Figure size 640x480 with 1 Axes>"
      ]
     },
     "metadata": {},
     "output_type": "display_data"
    }
   ],
   "source": [
    "# 선 그래프 그리기\n",
    "plt.plot(x,y)\n",
    "plt.title('테스트')\n",
    "plt.xlabel('데이터 이름')\n",
    "plt.ylabel('데이터 값')\n",
    "plt.show()"
   ]
  },
  {
   "cell_type": "code",
   "execution_count": 50,
   "id": "2116ae48-628d-4cbd-a986-91c635be98bf",
   "metadata": {},
   "outputs": [
    {
     "data": {
      "text/plain": [
       "<BarContainer object of 3 artists>"
      ]
     },
     "execution_count": 50,
     "metadata": {},
     "output_type": "execute_result"
    },
    {
     "data": {
      "image/png": "[encoded data removed]",
      "text/plain": [
       "<Figure size 640x480 with 1 Axes>"
      ]
     },
     "metadata": {},
     "output_type": "display_data"
    }
   ],
   "source": [
    "# 막대 그래프 그리기\n",
    "plt.bar(x, y)"
   ]
  },
  {
   "cell_type": "code",
   "execution_count": 52,
   "id": "92bcffa1-6e97-46c1-ac4e-1c4b70bd7db9",
   "metadata": {
    "scrolled": true
   },
   "outputs": [
    {
     "data": {
      "text/plain": [
       "<BarContainer object of 3 artists>"
      ]
     },
     "execution_count": 52,
     "metadata": {},
     "output_type": "execute_result"
    },
    {
     "data": {
      "image/png": "[encoded data removed]",
      "text/plain": [
       "<Figure size 640x480 with 1 Axes>"
      ]
     },
     "metadata": {},
     "output_type": "display_data"
    }
   ],
   "source": [
    "# 수평형 막대 그래프 그리기\n",
    "plt.barh(x, y)"
   ]
  },
  {
   "cell_type": "code",
   "execution_count": 53,
   "id": "3f13f4ec-2862-4d48-b07c-aa0b057e85fd",
   "metadata": {},
   "outputs": [
    {
     "data": {
      "image/png": "[encoded data removed]",
      "text/plain": [
       "<Figure size 640x480 with 1 Axes>"
      ]
     },
     "metadata": {},
     "output_type": "display_data"
    }
   ],
   "source": [
    "# 그래프 파일 저장 \n",
    "plt.barh(x,y)\n",
    "plt.title('테스트')\n",
    "plt.xlabel('데이터 이름')\n",
    "plt.ylabel('데이터 값')\n",
    "plt.savefig('./result/test.jpg')"
   ]
  }
 ],
 "metadata": {
  "kernelspec": {
   "display_name": "Python 3 (ipykernel)",
   "language": "python",
   "name": "python3"
  },
  "language_info": {
   "codemirror_mode": {
    "name": "ipython",
    "version": 3
   },
   "file_extension": ".py",
   "mimetype": "text/x-python",
   "name": "python",
   "nbconvert_exporter": "python",
   "pygments_lexer": "ipython3",
   "version": "3.9.21"
  }
 },
 "nbformat": 4,
 "nbformat_minor": 5
}
