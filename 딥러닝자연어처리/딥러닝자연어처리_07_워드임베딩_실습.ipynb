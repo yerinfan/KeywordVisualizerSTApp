{
 "cells": [
  {
   "cell_type": "markdown",
   "id": "6852478f-26e4-44ac-8548-dac194ce4870",
   "metadata": {},
   "source": [
    "# 영화 리뷰 워드 임베딩 (Word2Vec, FastText)\n",
    "- gensim 라이브러리 사용 : pip install gensim\n",
    "    - Word2Vec : models.Word2Vec\n",
    "    - FastText : models.FastText"
   ]
  },
  {
   "cell_type": "markdown",
   "id": "a345edb8-f3e3-4576-9b44-d43c67b7a464",
   "metadata": {},
   "source": [
    "## 1. 데이터 준비\n",
    "* 토큰화가 잘 되어 있는 filtered 데이터 사용"
   ]
  },
  {
   "cell_type": "code",
   "execution_count": 7,
   "id": "b4d55821-42c4-444b-b4ac-6abe16bb5c89",
   "metadata": {},
   "outputs": [
    {
     "data": {
      "text/html": [
       "<div>\n",
       "<style scoped>\n",
       "    .dataframe tbody tr th:only-of-type {\n",
       "        vertical-align: middle;\n",
       "    }\n",
       "\n",
       "    .dataframe tbody tr th {\n",
       "        vertical-align: top;\n",
       "    }\n",
       "\n",
       "    .dataframe thead th {\n",
       "        text-align: right;\n",
       "    }\n",
       "</style>\n",
       "<table border=\"1\" class=\"dataframe\">\n",
       "  <thead>\n",
       "    <tr style=\"text-align: right;\">\n",
       "      <th></th>\n",
       "      <th>review</th>\n",
       "      <th>rate</th>\n",
       "    </tr>\n",
       "  </thead>\n",
       "  <tbody>\n",
       "    <tr>\n",
       "      <th>0</th>\n",
       "      <td>아니 딴 그렇 비 비탄 총 대체 왜 들 온겨</td>\n",
       "      <td>7</td>\n",
       "    </tr>\n",
       "    <tr>\n",
       "      <th>1</th>\n",
       "      <td>진심 쓰레기 영화 만들 무서 알 쫄아 틀었 이건 뭐 웃 거리 없는 쓰레기 영화 임</td>\n",
       "      <td>1</td>\n",
       "    </tr>\n",
       "    <tr>\n",
       "      <th>2</th>\n",
       "      <td>역대 좀비 영화 가장 최고다 원작 만화 읽어 보려 영화 보고 결정 하려 감독 간츠 ...</td>\n",
       "      <td>10</td>\n",
       "    </tr>\n",
       "    <tr>\n",
       "      <th>3</th>\n",
       "      <td>온종일 불편한 피 범벅 일</td>\n",
       "      <td>6</td>\n",
       "    </tr>\n",
       "    <tr>\n",
       "      <th>4</th>\n",
       "      <td>답답함 극치 움직일 잇으 좀 움직여 어지간히 좀비 봣으 얼 타고 때려 잡 때 되 않냐</td>\n",
       "      <td>1</td>\n",
       "    </tr>\n",
       "  </tbody>\n",
       "</table>\n",
       "</div>"
      ],
      "text/plain": [
       "                                              review  rate\n",
       "0                           아니 딴 그렇 비 비탄 총 대체 왜 들 온겨     7\n",
       "1      진심 쓰레기 영화 만들 무서 알 쫄아 틀었 이건 뭐 웃 거리 없는 쓰레기 영화 임     1\n",
       "2  역대 좀비 영화 가장 최고다 원작 만화 읽어 보려 영화 보고 결정 하려 감독 간츠 ...    10\n",
       "3                                     온종일 불편한 피 범벅 일     6\n",
       "4    답답함 극치 움직일 잇으 좀 움직여 어지간히 좀비 봣으 얼 타고 때려 잡 때 되 않냐     1"
      ]
     },
     "execution_count": 7,
     "metadata": {},
     "output_type": "execute_result"
    }
   ],
   "source": [
    "data_filename = '../data/Korean_movie_reviews_2016_filtered.csv'\n",
    "import pandas as pd\n",
    "review_df = pd.read_csv(data_filename)\n",
    "review_df.head()"
   ]
  },
  {
   "cell_type": "code",
   "execution_count": 8,
   "id": "a5a21c52-66a6-43fa-af3a-c3de15ada7a1",
   "metadata": {},
   "outputs": [
    {
     "name": "stdout",
     "output_type": "stream",
     "text": [
      "<class 'pandas.core.frame.DataFrame'>\n",
      "RangeIndex: 788189 entries, 0 to 788188\n",
      "Data columns (total 2 columns):\n",
      " #   Column  Non-Null Count   Dtype \n",
      "---  ------  --------------   ----- \n",
      " 0   review  785448 non-null  object\n",
      " 1   rate    788189 non-null  int64 \n",
      "dtypes: int64(1), object(1)\n",
      "memory usage: 12.0+ MB\n"
     ]
    }
   ],
   "source": [
    "review_df.info()"
   ]
  },
  {
   "cell_type": "code",
   "execution_count": 9,
   "id": "82d2546c-4751-41a2-b147-a0197755d287",
   "metadata": {},
   "outputs": [
    {
     "data": {
      "text/plain": [
       "[['아니', '딴', '그렇', '비', '비탄', '총', '대체', '왜', '들', '온겨'],\n",
       " ['진심',\n",
       "  '쓰레기',\n",
       "  '영화',\n",
       "  '만들',\n",
       "  '무서',\n",
       "  '알',\n",
       "  '쫄아',\n",
       "  '틀었',\n",
       "  '이건',\n",
       "  '뭐',\n",
       "  '웃',\n",
       "  '거리',\n",
       "  '없는',\n",
       "  '쓰레기',\n",
       "  '영화',\n",
       "  '임'],\n",
       " ['역대',\n",
       "  '좀비',\n",
       "  '영화',\n",
       "  '가장',\n",
       "  '최고다',\n",
       "  '원작',\n",
       "  '만화',\n",
       "  '읽어',\n",
       "  '보려',\n",
       "  '영화',\n",
       "  '보고',\n",
       "  '결정',\n",
       "  '하려',\n",
       "  '감독',\n",
       "  '간츠',\n",
       "  '실사',\n",
       "  '했',\n",
       "  '사람',\n",
       "  '거르려',\n",
       "  '그냥',\n",
       "  '봤',\n",
       "  '정말',\n",
       "  '흠잡',\n",
       "  '없는',\n",
       "  '최고',\n",
       "  '좀비',\n",
       "  '영화',\n",
       "  '잔인',\n",
       "  '거',\n",
       "  '싫어하지',\n",
       "  '참고',\n",
       "  '볼',\n",
       "  '만하',\n",
       "  '로미',\n",
       "  '인물',\n",
       "  '왜',\n",
       "  '그런',\n",
       "  '모르'],\n",
       " ['온종일', '불편한', '피', '범벅', '일'],\n",
       " ['답답함',\n",
       "  '극치',\n",
       "  '움직일',\n",
       "  '잇으',\n",
       "  '좀',\n",
       "  '움직여',\n",
       "  '어지간히',\n",
       "  '좀비',\n",
       "  '봣으',\n",
       "  '얼',\n",
       "  '타고',\n",
       "  '때려',\n",
       "  '잡',\n",
       "  '때',\n",
       "  '되',\n",
       "  '않냐']]"
      ]
     },
     "execution_count": 9,
     "metadata": {},
     "output_type": "execute_result"
    }
   ],
   "source": [
    "# review만 모아서 review별 토큰 리스트로 변환 : review가 Object 타입이므로 str로 변환 후 split\n",
    "review_list=list(map(str, review_df.review))\n",
    "corpus = [review.split() for review in review_list]\n",
    "corpus[:5]"
   ]
  },
  {
   "cell_type": "markdown",
   "id": "dbff4dfe-a58d-4681-88be-f769fd01fcb7",
   "metadata": {},
   "source": [
    "## 1. Word2Vec 활용 영화 리뷰 워드 임베딩\n",
    "* https://radimrehurek.com/gensim/models/word2vec.html"
   ]
  },
  {
   "cell_type": "markdown",
   "id": "97be62c6-6afb-459b-acef-72943543024e",
   "metadata": {},
   "source": [
    "### Skipgram, negative=10 인 경우"
   ]
  },
  {
   "cell_type": "code",
   "execution_count": null,
   "id": "59132ead-4228-42c6-acb0-44cf235b92a9",
   "metadata": {},
   "outputs": [],
   "source": [
    "# Word2Vec 모델 생성 및 학습 : window=3, min_count=3\n",
    "from gensim.models import Word2Vec\n",
    "model_sg_n10 = Word2Vec(corpus, window=3, min_count=3, vector_size=100, sg=1, negative=10)"
   ]
  },
  {
   "cell_type": "code",
   "execution_count": null,
   "id": "2e687f90-f126-46f6-b281-6c90aea5cb13",
   "metadata": {},
   "outputs": [],
   "source": [
    "# 단어의 임베딩 벡터 확인\n",
    "model_sg_n10.wv['이정재']"
   ]
  },
  {
   "cell_type": "code",
   "execution_count": null,
   "id": "ed0b751b-5a56-48fc-9430-0602e1a1254c",
   "metadata": {},
   "outputs": [],
   "source": [
    "# 단어의 임베딩 벡터 차원 확인\n",
    "len(model_sg_n10.wv['이정재'])"
   ]
  },
  {
   "cell_type": "code",
   "execution_count": null,
   "id": "e2de11d9-b992-47c9-9335-8e298756c635",
   "metadata": {},
   "outputs": [],
   "source": [
    "# 두 단어 간 유사도 확인\n",
    "model_sg_n10.wv.similarity('이정재', '정우성')"
   ]
  },
  {
   "cell_type": "code",
   "execution_count": null,
   "id": "7cfb9963-62e7-4fdd-bee7-6b697702b07b",
   "metadata": {
    "scrolled": true
   },
   "outputs": [],
   "source": [
    "# 특정 단어와 유사한 단어 추출\n",
    "model_sg_n10.wv.most_similar('이정재', topn=20)"
   ]
  },
  {
   "cell_type": "code",
   "execution_count": null,
   "id": "85fbd1a9-96f5-4985-b7e8-790b68fcc1e8",
   "metadata": {},
   "outputs": [],
   "source": [
    "# 특정 단어와 유사한 단어 추출\n",
    "model_sg_n10.wv.most_similar('재밌', topn=20)"
   ]
  },
  {
   "cell_type": "markdown",
   "id": "9c5d3aab-e251-49e6-b5da-ba4b93048ec6",
   "metadata": {},
   "source": [
    "### Skipgram, negative=5 인 경우"
   ]
  },
  {
   "cell_type": "code",
   "execution_count": null,
   "id": "fb1f8f40-536c-4ff9-b4b7-c3f2920f36d2",
   "metadata": {},
   "outputs": [],
   "source": [
    "# 모델 생성\n",
    "model_sg_n5 = Word2Vec(corpus, window=3, min_count=3, vector_size=100, sg=1, negative=5)"
   ]
  },
  {
   "cell_type": "code",
   "execution_count": null,
   "id": "1c32910a-d661-4f57-9e01-6766ca06d05a",
   "metadata": {},
   "outputs": [],
   "source": [
    "# 특어 단어와 유사한 단어 추출 : 이정재\n",
    "model_sg_n5.wv['이정재']"
   ]
  },
  {
   "cell_type": "code",
   "execution_count": null,
   "id": "7809a98e-f3cc-4b9f-bfed-fa335a1b57b9",
   "metadata": {
    "scrolled": true
   },
   "outputs": [],
   "source": [
    "# 특어 단어와 유사한 단어 추출 : 재밌\n",
    "model_sg_n5.wv.most_similar('재밌', topn=20)"
   ]
  },
  {
   "cell_type": "markdown",
   "id": "cb0f7ffc-edb9-4822-a448-b9d5fa0e4c41",
   "metadata": {},
   "source": [
    "### CBOW, negative=10 인 경우"
   ]
  },
  {
   "cell_type": "code",
   "execution_count": null,
   "id": "9d0fb339-d4bc-4b6c-9e0b-bca9b524a8d4",
   "metadata": {},
   "outputs": [],
   "source": [
    "model_cbow_n10 = Word2Vec(corpus, window=3, min_count=3, vector_size=100, sg=0, negative=10)"
   ]
  },
  {
   "cell_type": "code",
   "execution_count": null,
   "id": "5711abf5-a6a6-4fc5-b695-3d3657dee6bd",
   "metadata": {},
   "outputs": [],
   "source": [
    "model_cbow_n10.wv['이정재']"
   ]
  },
  {
   "cell_type": "code",
   "execution_count": null,
   "id": "5c055af9-19f2-446d-9471-625987d071e0",
   "metadata": {
    "scrolled": true
   },
   "outputs": [],
   "source": [
    "model_cbow_n10.wv.most_similar('재밌', topn=20)"
   ]
  },
  {
   "cell_type": "markdown",
   "id": "8f9e5aec-aad4-45c2-a885-f9549fd5428f",
   "metadata": {},
   "source": [
    "### CBOW, negative=5 인 경우"
   ]
  },
  {
   "cell_type": "code",
   "execution_count": null,
   "id": "eaf0a7fc-1e2d-498e-ba32-ea9b1816b1fe",
   "metadata": {},
   "outputs": [],
   "source": [
    "model_cbow_n5 = Word2Vec(corpus, window=3, min_count=3, vector_size=100, sg=0, negative=5)"
   ]
  },
  {
   "cell_type": "code",
   "execution_count": null,
   "id": "36bf1f02-980b-421c-a1f8-28e4eee02869",
   "metadata": {
    "scrolled": true
   },
   "outputs": [],
   "source": [
    "model_cbow_n5.wv['이정재']"
   ]
  },
  {
   "cell_type": "code",
   "execution_count": null,
   "id": "bf4c72a4-2d88-4634-b933-41995e8dc4a6",
   "metadata": {
    "scrolled": true
   },
   "outputs": [],
   "source": [
    "model_cbow_n5.wv.most_similar('재밌', topn=20)"
   ]
  },
  {
   "cell_type": "markdown",
   "id": "daebaa51-3a4c-4d79-8f40-c76c6e6b8bd6",
   "metadata": {},
   "source": [
    "### OOV(Out of Vocabulary) 문제"
   ]
  },
  {
   "cell_type": "code",
   "execution_count": null,
   "id": "14c9aff5-69bf-44bf-ae0b-5c319001a63f",
   "metadata": {},
   "outputs": [],
   "source": [
    "# corpus에 없는 단어 확인 : 우주평화 \n",
    "'우주평화' in model_sg_n10.wv.key_to_index"
   ]
  },
  {
   "cell_type": "code",
   "execution_count": null,
   "id": "3d6dabae-b501-4330-8edc-4ce797e9848e",
   "metadata": {
    "scrolled": true
   },
   "outputs": [],
   "source": [
    "# corpus에 없는 단어의 임베딩 벡터 확인 \n",
    "model_sg_n10.wv['우주평']"
   ]
  },
  {
   "cell_type": "markdown",
   "id": "cde39b71-7c54-4597-b47c-354ea3e0a47e",
   "metadata": {},
   "source": [
    "## 2. FastText 활용 영화 리뷰 워드 임베딩\n",
    "* https://radimrehurek.com/gensim/models/fasttext.html"
   ]
  },
  {
   "cell_type": "code",
   "execution_count": null,
   "id": "9c3bfd5c-13cf-49f7-b100-b4caf8bb1713",
   "metadata": {},
   "outputs": [],
   "source": [
    "# FastText 모델 생성 및 학습\n",
    "# window=3, min_count=3, min_n=2, max_n=2\n",
    "from gensim.models import FastText\n",
    "\n",
    "ft_model = FastText(corpus, window=3, min_count=3, min_n=2, max_n=2, vector_size=100, negative=10, sg=1)"
   ]
  },
  {
   "cell_type": "code",
   "execution_count": null,
   "id": "03045b7f-15c8-48ff-8df9-44215a4981fa",
   "metadata": {},
   "outputs": [],
   "source": [
    "# 특정 단어와 유사한 단어 추출 : 이정재\n",
    "ft_model.wv['이정재']"
   ]
  },
  {
   "cell_type": "code",
   "execution_count": null,
   "id": "cebb3d56-01a5-4498-a966-ea7c31d89468",
   "metadata": {},
   "outputs": [],
   "source": [
    "# corpus에 없는 단어 확인 : 우주평화 \n",
    "'우주평화' in ft_model.wv.key_to_index"
   ]
  },
  {
   "cell_type": "code",
   "execution_count": null,
   "id": "6b2b16a8-ee61-4885-9584-02b618c10333",
   "metadata": {
    "scrolled": true
   },
   "outputs": [],
   "source": [
    "# corpus에 없는 단어의 임베딩 벡터 확인 \n",
    "ft_model.wv['우주평화']"
   ]
  },
  {
   "cell_type": "code",
   "execution_count": null,
   "id": "f48a48ba-408c-4368-8b13-091a55502253",
   "metadata": {},
   "outputs": [],
   "source": [
    "# corpus에 없는 단어와 유사한 단어추출 \n",
    "ft_model.wv.most_similar('우주평화')"
   ]
  }
 ],
 "metadata": {
  "kernelspec": {
   "display_name": "DeepNLPEnv",
   "language": "python",
   "name": "deeplpenv"
  },
  "language_info": {
   "codemirror_mode": {
    "name": "ipython",
    "version": 3
   },
   "file_extension": ".py",
   "mimetype": "text/x-python",
   "name": "python",
   "nbconvert_exporter": "python",
   "pygments_lexer": "ipython3",
   "version": "3.9.18"
  }
 },
 "nbformat": 4,
 "nbformat_minor": 5
}
